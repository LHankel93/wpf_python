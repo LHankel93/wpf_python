{
 "cells": [
  {
   "cell_type": "markdown",
   "id": "5f1361ed",
   "metadata": {},
   "source": [
    "# Einführung: Jupyter Notebooks\n",
    "\n",
    "Wir benutzen Juypter Notebooks für die Einführung in Python. Das Juypter Project (https://jupyter.org/) entwickelt Open-Source-Software, mit der spezielle Dokumente - die sogenannten Jupyter Notebooks - erstellt werden. "
   ]
  },
  {
   "cell_type": "markdown",
   "id": "94c65c0a",
   "metadata": {},
   "source": [
    "# Jupyter Notebooks basieren auf Zellen\n",
    "Jupyter Notebooks basieren auf Zellen. Es gibt zwei Arten von Zellen, die für diesen Kurs interessant sind:\n",
    "\n",
    "- Zellen, die Text and Erklärungen beinhalten (Markdown Cells)\n",
    "- Zellen zum Programmieren (Code Cells)\n",
    "\n",
    "dieser Text, den du gerade liest, ist Teil einer Markdown Cell!\n",
    "\n",
    "## Markdown Cells\n",
    "Diese Zellen enthalten formatierten Text.\n",
    "\n",
    "## Code Cells\n",
    "Die folgende Zelle ist eine code cell. Sie enthält Python Code, der innerhalb dieses Notebooks ausgeführt werden kann."
   ]
  },
  {
   "cell_type": "code",
   "execution_count": 1,
   "id": "83bebd45",
   "metadata": {},
   "outputs": [
    {
     "name": "stdout",
     "output_type": "stream",
     "text": [
      "Hello New World\n"
     ]
    }
   ],
   "source": [
    "print(\"Hello New World\")"
   ]
  },
  {
   "cell_type": "markdown",
   "id": "b92a502b",
   "metadata": {},
   "source": [
    "## Active Cells\n",
    "Wenn du eine Zelle anklickst, wird sie aktiviert. Normalerweise gibt es eine aktive Zelle, die durch dem umlaufenden Rahmen hervorgehoben ist. Auf der linken Seite gibt es einen grünen oder blauen Balken."
   ]
  },
  {
   "cell_type": "markdown",
   "id": "1c1c985f",
   "metadata": {},
   "source": [
    "# Edit Mode und Command Mode\n",
    "Es gibt zwei verschiedenen Modi für Zellen: Edit mode und command mode. Im command-Modus sind die markdown cells (text\n",
    "cells) gut zu lesen, der Text hat ein gutes Layout. Im edit-Modus ist das Layout gewöhnungsbedürftig. Du siehst dort alle *markdown-commands* die das Layout bestimmen. Um in den edit-Modus zu gelangen, kannst du einfach einen Doppelklick auf die Zelle ausführen. Um zurück in den command-Modus zu kommen, einfach \"Run\" in der Menüleiste klicken. In diesem Kurs musst du keine Textzellen ändern. Falls du aber aus Versehen auf eine Textzelle doppelt klickst, sollst du wissen, wie es wieder zurück geht. \n",
    "Probier es aus!\n",
    "\n",
    "Wenn du in eine code cell klickst, kannst du den Code bearbeiten. Wenn du \"run\" in der Menüleiste klickst, wird der code ausgeführt. Der Output des Programms sollte direkt unter der Zelle angezeigt werden.\n",
    "Probier es aus!\n",
    "\n",
    "Außerdem ändert sich bei der Ausführung der Text links neben der Zelle: `In [ ]` ändert sich zu `In [1]`. Die `1` bedeutet die Folge der Ausführungen. Die `1` bedeutet, dies ist die erste Ausführung in diesem Notebook. Wenn du die Zelle ein zweites Mal ausführst, wird die `1` geändert zu `2`. Das ist für später interessant.\n",
    "\n",
    "# Menüleiste: The Menu Bar\n",
    "Die Menüleiste steht ganz oben und ist eigentlich selbsterklärend. Nur eine kurze Erklärung zum `Kernel` -Menü: Hier werden Befehle angeboten zur Steuerung der Verbindung des Notebooks im Browser und dem Jupyter-Server im Hintergrund.\n",
    "Falls einmal eine Zelle oder das Notebook \"hängt\", kann der Kernel neu gestartet werden. mit dem Befehl `Restart & Clear Output` werden die ausführungen alles Code-Zellen zurückgesetzt. \n",
    "Probier es aus!"
   ]
  },
  {
   "cell_type": "markdown",
   "id": "873d9eb5",
   "metadata": {},
   "source": [
    "# Mehr über Jupyter Notebooks\n",
    "Das war die kurze Einführung. Wenn du mehr wissen willst ... hier https://docs.jupyter.org/en/latest/ . "
   ]
  },
  {
   "cell_type": "code",
   "execution_count": 11,
   "id": "2f90084d",
   "metadata": {},
   "outputs": [
    {
     "name": "stdout",
     "output_type": "stream",
     "text": [
      "Hallo\n"
     ]
    }
   ],
   "source": []
  },
  {
   "cell_type": "markdown",
   "id": "c64a5d1a",
   "metadata": {},
   "source": [
    "# Überschrift 1\n",
    "## Überschrift 2\n",
    "###### Überschrift 6\n",
    "- Einrückung 1\n",
    "-- Einrückung 2\n",
    "-- Einrückung 2\n",
    "**nächster Absatz**\n",
    "1. Nummerierte Liste\n",
    "2. Test\n",
    "\t1. Test 2\n",
    "[Eine Webseite](www.google.de)\n",
    "``print('test')``"
   ]
  },
  {
   "cell_type": "markdown",
   "id": "3d1f7a4b",
   "metadata": {},
   "source": [
    "# Print formatieren"
   ]
  },
  {
   "cell_type": "code",
   "execution_count": null,
   "id": "33b5bc44",
   "metadata": {},
   "outputs": [],
   "source": [
    "print(\"Preis: %10.2f Euro\" % (12.535423423))"
   ]
  },
  {
   "cell_type": "markdown",
   "id": "32ca980e",
   "metadata": {},
   "source": [
    "# Datentypen"
   ]
  },
  {
   "cell_type": "code",
   "execution_count": null,
   "id": "a8aeb893",
   "metadata": {},
   "outputs": [],
   "source": [
    "from decimal import *\n",
    "a = 1.1\n",
    "a2 = Decimal(\"1.2\")\n",
    "b = True\n",
    "c = 20\n",
    "d = 'Hello'\n",
    "e = [1, 2, 3]\n",
    "f = (1, 2, 3)\n",
    "print(a, b, c, d, e, f, sep=\"\\n\")\n",
    "print(type(a), type(a2), type(b), type(c), type(d), type(e), type(f), sep=\"\\n\")"
   ]
  },
  {
   "cell_type": "markdown",
   "id": "92509a35",
   "metadata": {},
   "source": [
    "# Decimal Bla Keks"
   ]
  },
  {
   "cell_type": "code",
   "execution_count": null,
   "id": "7614b51f",
   "metadata": {},
   "outputs": [],
   "source": [
    "from decimal import *\n",
    "z1 = 0.1 + 0.1 + 0.1\n",
    "print(z1)\n",
    "z2 = Decimal(\"0.1\") + Decimal(\"0.1\") + Decimal(\"0.1\")\n",
    "print(z2)"
   ]
  },
  {
   "cell_type": "markdown",
   "id": "bc6f7f6c",
   "metadata": {},
   "source": [
    "# Typzuweisungen"
   ]
  },
  {
   "cell_type": "code",
   "execution_count": null,
   "id": "939a1276",
   "metadata": {},
   "outputs": [],
   "source": [
    "eine_zahl : int = 2 #richtiger Huso Move :^) \n",
    "eine_zahl = \"Hallo\"\n",
    "print(eine_zahl)"
   ]
  },
  {
   "cell_type": "markdown",
   "id": "fd71b799",
   "metadata": {},
   "source": [
    "# Kommentare"
   ]
  },
  {
   "cell_type": "code",
   "execution_count": null,
   "id": "814f7a5a",
   "metadata": {},
   "outputs": [],
   "source": [
    "# Das ist ein einzeiliges Kommentar\n",
    "# Es gibt keine mehrzeiligen Kommentare."
   ]
  },
  {
   "cell_type": "markdown",
   "id": "2f7b9606",
   "metadata": {},
   "source": [
    "# Anweisung / Sequenz"
   ]
  },
  {
   "cell_type": "code",
   "execution_count": null,
   "id": "8b0af42e",
   "metadata": {},
   "outputs": [],
   "source": [
    "#siehe oben"
   ]
  },
  {
   "cell_type": "markdown",
   "id": "1d5ac163",
   "metadata": {},
   "source": [
    "# Verzweigung"
   ]
  },
  {
   "cell_type": "code",
   "execution_count": 15,
   "id": "28bef653",
   "metadata": {},
   "outputs": [
    {
     "name": "stdout",
     "output_type": "stream",
     "text": [
      "Zahl 0 ist gleich Null.\n"
     ]
    }
   ],
   "source": [
    "zaehler = int(input(\"Geben Sie eine Zahl ein.\"))\n",
    "if zaehler < 0 :\n",
    "    print(\"Zahl ist kleiner als Null.\")\n",
    "elif zaehler > 0 :\n",
    "    print(\"Zahl {0:d} ist größer als Null.\".format(zaehler))\n",
    "else :\n",
    "    print(\"Zahl {0:d} ist gleich Null.\".format(zaehler))\n"
   ]
  },
  {
   "cell_type": "markdown",
   "id": "ba6111cd",
   "metadata": {},
   "source": [
    "# Schleifen"
   ]
  },
  {
   "cell_type": "markdown",
   "id": "358724a8",
   "metadata": {},
   "source": [
    "## WHILE"
   ]
  },
  {
   "cell_type": "code",
   "execution_count": 19,
   "id": "73f02ea2",
   "metadata": {},
   "outputs": [
    {
     "name": "stdout",
     "output_type": "stream",
     "text": [
      "0\n",
      "1\n",
      "2\n",
      "3\n",
      "4\n",
      "5\n",
      "6\n",
      "7\n",
      "8\n",
      "9\n"
     ]
    }
   ],
   "source": [
    "a = 0\n",
    "while a < 10 :\n",
    "    print(a)\n",
    "    a += 1"
   ]
  },
  {
   "cell_type": "markdown",
   "id": "fe6dfe12",
   "metadata": {},
   "source": [
    "## FOR"
   ]
  },
  {
   "cell_type": "code",
   "execution_count": null,
   "id": "6c23b955",
   "metadata": {},
   "outputs": [],
   "source": []
  }
 ],
 "metadata": {
  "kernelspec": {
   "display_name": "Python 3.10.5 64-bit",
   "language": "python",
   "name": "python3"
  },
  "language_info": {
   "codemirror_mode": {
    "name": "ipython",
    "version": 3
   },
   "file_extension": ".py",
   "mimetype": "text/x-python",
   "name": "python",
   "nbconvert_exporter": "python",
   "pygments_lexer": "ipython3",
   "version": "3.10.5"
  },
  "vscode": {
   "interpreter": {
    "hash": "68e45b7eb2bb28c4427cdb0c6b0cc35aac26af037ac9a6f6c34de1157e864ad1"
   }
  }
 },
 "nbformat": 4,
 "nbformat_minor": 5
}
