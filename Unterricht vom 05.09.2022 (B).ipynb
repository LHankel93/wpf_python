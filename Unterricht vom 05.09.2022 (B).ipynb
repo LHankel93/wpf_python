{
 "cells": [
  {
   "cell_type": "markdown",
   "id": "6de2facf",
   "metadata": {},
   "source": [
    "# IT-Z: Python 05.09.2022 (B-Turnus)"
   ]
  },
  {
   "cell_type": "markdown",
   "id": "0886c254",
   "metadata": {},
   "source": [
    "## Organisatorisches (siehe auch Präsentation im Moodle-Kurs)\n",
    "- Moodle-Kurs: https://moodle.oszimt.de/course/view.php?id=4085\n",
    "- Einschreibeschlüssel Python-Kurs: **pyt-ACB56!**\n",
    "- Abgaben werden quantitativ und qualitativ (Stichproben) bewertet\n",
    "- kurze Tests pro Woche\n",
    "- Hausaufgaben implizit (ggf. nacharbeiten)\n",
    "- pro Halbjahr eine Klausur (Nachschreiberregeln beachten, Termin in Untis)\n",
    "- Kommunikation per E-Mail (Netiquette einhalten!)\n",
    "- Unterricht per BBB (bei Schulschließung oder Krankheit (freiwillig!))"
   ]
  },
  {
   "cell_type": "markdown",
   "id": "d0a75cbb",
   "metadata": {},
   "source": [
    "### Software"
   ]
  },
  {
   "cell_type": "markdown",
   "id": "2fd69af9",
   "metadata": {},
   "source": [
    "- Anaconda: Python-Distribution\n",
    "\t- Python 3.x\n",
    "\t- virtuelle Umgebungen mit conda\n",
    "\t- Jupyter\n",
    "\t\t- web-basierte interaktive Umgebung\n",
    "\t- Visual Studio Code\n",
    "\t\t- kann ebenfalls Jupyter-Notebooks öffnen\n",
    "\t- weitere Apps und Bibliotheken\n",
    "- andere IDEs (z. B. PyCharm möglich, aber kein Support durch die Lehrenden)"
   ]
  },
  {
   "cell_type": "markdown",
   "id": "8563142f",
   "metadata": {},
   "source": [
    "**Anaconda jetzt installieren**"
   ]
  },
  {
   "cell_type": "markdown",
   "id": "fe894cca",
   "metadata": {},
   "source": [
    "## Über Python\n",
    "- Python wird interpretiert, mit allen Vor- und Nachteilen.\n",
    "\t- Der Interpretor führt Zeile für Zeile aus, von oben nach unten und links nach rechts.\n",
    "\t- In Falle von Syntaxfehlern wird das Programm beendet.\n",
    "- Einsatz vor allem im wissenschaftlichen Umfeld (Data Science), kann aber überall verwendet werden.\n",
    "- Wir nutzen **Python 3.x**."
   ]
  },
  {
   "cell_type": "markdown",
   "id": "055e01e7",
   "metadata": {},
   "source": [
    "### Sehr einfache Python-Einführung\n",
    "- https://silentteacher.toxicode.fr/hour_of_code.html?theme=basic_python\n"
   ]
  },
  {
   "cell_type": "markdown",
   "id": "30c67c88",
   "metadata": {},
   "source": [
    "## Markdown-Einführung\n"
   ]
  },
  {
   "cell_type": "markdown",
   "id": "7e4aa4cd",
   "metadata": {},
   "source": [
    "# Überschrift 1\n",
    "## Überschrift\n",
    "###### Überschrift 6\n",
    "Das ist Absatz.\n",
    "\n",
    "Das ist der **nächste** Absatz.\n",
    "\n",
    "- Aufzählungsleiste\n",
    "\t- Unterpunkt 1\n",
    "\t- Unterpunkt 2\n",
    "\n",
    "1. Nummerierte Liste\n",
    "2. Test\n",
    "\t1. Test 2\n",
    "\n",
    "[DuckDuckGo](https://www.duckduckgo.com)\n",
    "\n",
    "``print(\"Hello WOrld\")``\n"
   ]
  },
  {
   "cell_type": "markdown",
   "id": "3751cce4",
   "metadata": {},
   "source": [
    "# Einführung in Python\n",
    "\n"
   ]
  },
  {
   "cell_type": "markdown",
   "id": "ba271e1c",
   "metadata": {},
   "source": [
    "## Grundlagen\n"
   ]
  },
  {
   "cell_type": "markdown",
   "id": "5b7e3d09",
   "metadata": {},
   "source": [
    "### Konsolenausgabe"
   ]
  },
  {
   "cell_type": "code",
   "execution_count": 21,
   "id": "df67674d",
   "metadata": {},
   "outputs": [
    {
     "name": "stdout",
     "output_type": "stream",
     "text": [
      "Hello World\n"
     ]
    }
   ],
   "source": [
    "print(\"Hello World\")"
   ]
  },
  {
   "cell_type": "markdown",
   "id": "a64c7f29",
   "metadata": {},
   "source": [
    "#### printf"
   ]
  },
  {
   "cell_type": "code",
   "execution_count": 22,
   "id": "6e21162a",
   "metadata": {},
   "outputs": [
    {
     "name": "stdout",
     "output_type": "stream",
     "text": [
      "Preis:      12.84 Euro\n"
     ]
    }
   ],
   "source": [
    "print(\"Preis: %10.2f Euro\" % (12.843892482))"
   ]
  },
  {
   "cell_type": "code",
   "execution_count": 23,
   "id": "baeb979f",
   "metadata": {},
   "outputs": [
    {
     "name": "stdout",
     "output_type": "stream",
     "text": [
      "Hallo Peter, dein Preis beträgt 12.43 Euro.\n"
     ]
    }
   ],
   "source": [
    "print(\"Hallo %s, dein Preis beträgt %5.2f Euro.\" % (\"Peter\", 12.43438))"
   ]
  },
  {
   "cell_type": "markdown",
   "id": "28adc589",
   "metadata": {},
   "source": [
    "#### format()"
   ]
  },
  {
   "cell_type": "code",
   "execution_count": 24,
   "id": "65d5904a",
   "metadata": {},
   "outputs": [
    {
     "name": "stdout",
     "output_type": "stream",
     "text": [
      "Hallo Peter, dein Preis beträgt 13.23    EUR.\n",
      "\n"
     ]
    }
   ],
   "source": [
    "print(\"Hallo {0:s}, dein Preis beträgt {1:<8.2f} EUR.\".format(\"Peter\", 13.23232))\n",
    "print(\"\")"
   ]
  },
  {
   "cell_type": "markdown",
   "id": "361dcc9a",
   "metadata": {},
   "source": [
    "Alternative: format()-Funktion: https://www.w3schools.com/python/ref_string_format.asp  \n",
    "Weitere Formatmöglichkeiten: https://www.python-kurs.eu/python3_formatierte_ausgabe.php"
   ]
  },
  {
   "cell_type": "code",
   "execution_count": 25,
   "id": "ef438f2e",
   "metadata": {},
   "outputs": [
    {
     "name": "stdout",
     "output_type": "stream",
     "text": [
      "1*2*3*4$Hello World\n"
     ]
    }
   ],
   "source": [
    "print(1, 2, 3, 4, sep=\"*\", end=\"$\")\n",
    "print(\"Hello\", \"World\")"
   ]
  },
  {
   "cell_type": "markdown",
   "id": "1fef6b84",
   "metadata": {},
   "source": [
    "### Eingaben"
   ]
  },
  {
   "cell_type": "code",
   "execution_count": 26,
   "id": "f7f972ce",
   "metadata": {},
   "outputs": [
    {
     "name": "stdout",
     "output_type": "stream",
     "text": [
      "Hello peter\n"
     ]
    }
   ],
   "source": [
    "name = input(\"Geben Sie Ihren Namen ein.\")\n",
    "print(\"Hello\", name)\n",
    "name = 2"
   ]
  },
  {
   "cell_type": "code",
   "execution_count": 27,
   "id": "dce2337f",
   "metadata": {},
   "outputs": [
    {
     "data": {
      "text/plain": [
       "int"
      ]
     },
     "execution_count": 27,
     "metadata": {},
     "output_type": "execute_result"
    }
   ],
   "source": [
    "type(name)"
   ]
  },
  {
   "cell_type": "code",
   "execution_count": 29,
   "id": "234ce9e7",
   "metadata": {},
   "outputs": [
    {
     "name": "stdout",
     "output_type": "stream",
     "text": [
      "14\n"
     ]
    }
   ],
   "source": [
    "zahl = int(input(\"Geben Sie eine Zahl ein.\"))\n",
    "zahl = zahl + 2\n",
    "print(zahl)"
   ]
  },
  {
   "cell_type": "markdown",
   "id": "974d6e23",
   "metadata": {},
   "source": [
    "### Datentypen"
   ]
  },
  {
   "cell_type": "code",
   "execution_count": 33,
   "id": "a623bf22",
   "metadata": {},
   "outputs": [
    {
     "name": "stdout",
     "output_type": "stream",
     "text": [
      "1.1\n",
      "1.2\n",
      "True\n",
      "20\n",
      "Hello\n",
      "[1, 2, 3]\n",
      "(1, 2, 3)\n",
      "<class 'float'>\n",
      "<class 'decimal.Decimal'>\n",
      "<class 'bool'>\n",
      "<class 'int'>\n",
      "<class 'str'>\n",
      "<class 'list'>\n",
      "<class 'tuple'>\n"
     ]
    }
   ],
   "source": [
    "from decimal import Decimal\n",
    "\n",
    "\n",
    "a = 1.1\n",
    "a2 = Decimal(\"1.2\")\n",
    "b = True\n",
    "c = 20\n",
    "d = 'Hello'\n",
    "e = [1, 2, 3]\n",
    "f = (1, 2, 3)\n",
    "print(a, a2, b, c, d, e, f, sep=\"\\n\")\n",
    "print(type(a), type(a2), type(b), type(c), type(d), type(e), type(f), sep=\"\\n\")"
   ]
  },
  {
   "cell_type": "markdown",
   "id": "2597ca0e",
   "metadata": {},
   "source": [
    "**Achtung bei Float**\n",
    "\n",
    "\n",
    "```By default, Python interprets any number that includes a decimal point as a double precision floating point number. The Decimal is a floating decimal point type which more precision and a smaller range than the float. It is appropriate for financial and monetary calculations. It is also closer to the way how humans work with numbers.```\n",
    "https://zetcode.com/python/decimal/"
   ]
  },
  {
   "cell_type": "code",
   "execution_count": 36,
   "id": "5d19300a",
   "metadata": {},
   "outputs": [
    {
     "name": "stdout",
     "output_type": "stream",
     "text": [
      "0.30000000000000004\n",
      "0.3\n",
      "False\n"
     ]
    }
   ],
   "source": [
    "z1 = 0.1 + 0.1 + 0.1\n",
    "z2 = Decimal(\"0.1\") + Decimal(\"0.1\") + Decimal(\"0.1\")\n",
    "print(z1)\n",
    "print(z2)\n",
    "print(z1==z2)"
   ]
  },
  {
   "cell_type": "markdown",
   "id": "1d563323",
   "metadata": {},
   "source": [
    "#### Type Casting"
   ]
  },
  {
   "cell_type": "markdown",
   "id": "c97251e6",
   "metadata": {},
   "source": [
    "``str()``  \n",
    "``int()``  \n",
    "``float()``"
   ]
  },
  {
   "cell_type": "markdown",
   "id": "cf3416c3",
   "metadata": {},
   "source": [
    "#### Type Hints\n",
    "Helfen, Fehler in komplexen Projekten zu vermeiden, werden von Python aber ignoriert. Interessant für IDEs wie PyCharm, die Vorab-Checks des Codes ausführen.\n",
    "```Specifying a variable type in Python does not mean the variable can only accept values of that type. They are just hints that inform a user of the type which a variable is.``` https://www.pythonstacks.com/blog/post/type-hints-python/"
   ]
  },
  {
   "cell_type": "code",
   "execution_count": 38,
   "id": "fc295e42",
   "metadata": {},
   "outputs": [
    {
     "name": "stdout",
     "output_type": "stream",
     "text": [
      "Hallo\n"
     ]
    }
   ],
   "source": [
    "eine_zahl : int = 2\n",
    "eine_zahl = \"Hallo\"\n",
    "print(eine_zahl)"
   ]
  },
  {
   "cell_type": "markdown",
   "id": "549b795f",
   "metadata": {},
   "source": [
    "#### Zahlen"
   ]
  },
  {
   "cell_type": "code",
   "execution_count": 40,
   "id": "b5efdca4",
   "metadata": {},
   "outputs": [
    {
     "name": "stdout",
     "output_type": "stream",
     "text": [
      "0o75\n",
      "11 13 219 61\n"
     ]
    }
   ],
   "source": [
    "x1 = 11\n",
    "x2 = 0o15\n",
    "x3 = 0xDB\n",
    "x4 = 0b111101\n",
    "print(oct(x4))\n",
    "\n",
    "print(x1, x2, x3, x4)"
   ]
  },
  {
   "cell_type": "code",
   "execution_count": 42,
   "id": "7f659756",
   "metadata": {},
   "outputs": [
    {
     "name": "stdout",
     "output_type": "stream",
     "text": [
      "52662508523125481429636904843771654412625753356755323603329819172389362444679491697621955587549602835108792\n"
     ]
    }
   ],
   "source": [
    "x = 374829572389472983472398472398472398**3\n",
    "print(x)"
   ]
  },
  {
   "cell_type": "markdown",
   "id": "9802d740",
   "metadata": {},
   "source": [
    "### Operatoren\n"
   ]
  },
  {
   "cell_type": "markdown",
   "id": "e957571d",
   "metadata": {},
   "source": [
    "#### Arithmetische Operatoren"
   ]
  },
  {
   "cell_type": "markdown",
   "id": "abdfd049",
   "metadata": {},
   "source": [
    "`` +, -, *, /, %, **, ...``\n"
   ]
  },
  {
   "cell_type": "markdown",
   "id": "928a6f38",
   "metadata": {},
   "source": [
    "#### Logische Operatoren"
   ]
  },
  {
   "cell_type": "markdown",
   "id": "f5f3d8a4",
   "metadata": {},
   "source": [
    "``and, or, not, &, |``"
   ]
  },
  {
   "cell_type": "markdown",
   "id": "2e093cc0",
   "metadata": {},
   "source": [
    "#### Vergleichsoperatoren"
   ]
  },
  {
   "cell_type": "markdown",
   "id": "e9c7de38",
   "metadata": {},
   "source": [
    "``< <= > >= != ==``"
   ]
  },
  {
   "cell_type": "markdown",
   "id": "03f7f734",
   "metadata": {},
   "source": [
    "### Kommentare"
   ]
  },
  {
   "cell_type": "code",
   "execution_count": 45,
   "id": "6ea32ea7",
   "metadata": {},
   "outputs": [],
   "source": [
    "# Das ist ein einzeiliger Kommentar.\n",
    "# Es gibt keine mehrzeiligen Kommentare."
   ]
  },
  {
   "cell_type": "markdown",
   "id": "bcf772a3",
   "metadata": {},
   "source": [
    "## Kontrollstrukturen\n"
   ]
  },
  {
   "cell_type": "markdown",
   "id": "2cd9cbf1",
   "metadata": {},
   "source": [
    "### Anweisungen/Sequenz\n",
    "siehe oben\n",
    "### Verzweigung/Auswahl (IF)"
   ]
  },
  {
   "cell_type": "code",
   "execution_count": 46,
   "id": "264e15a2",
   "metadata": {},
   "outputs": [
    {
     "name": "stdout",
     "output_type": "stream",
     "text": [
      "Zahl 4 ist größer als NUll\n"
     ]
    }
   ],
   "source": [
    "zaehler = int(input(\"Geben Sie eine Zahl ein\"))\n",
    "if zaehler < 0 :\n",
    "  print(\"Zahl ist kleiner als Null\")\n",
    "else :\n",
    "  print(\"Zahl {0:d} ist größer als NUll\".format(zaehler))"
   ]
  },
  {
   "cell_type": "code",
   "execution_count": 52,
   "id": "bcce83b5",
   "metadata": {},
   "outputs": [
    {
     "name": "stdout",
     "output_type": "stream",
     "text": [
      "Zahl 5 ist größer als NUll\n"
     ]
    }
   ],
   "source": [
    "zaehler = int(input(\"Geben Sie eine Zahl ein\"))\n",
    "if zaehler < 0 :\n",
    "  print(\"Zahl ist kleiner als Null\")\n",
    "else :\n",
    "  if zaehler > 0 :\n",
    "    print(\"Zahl {0:d} ist größer als NUll\".format(zaehler))\n",
    "  else :\n",
    "    print(\"Zahl {0:d} ist gleich als NUll\".format(zaehler))\n",
    "    \n",
    "if (zaehler < 0) :\n",
    "  print(\"Zahl ist kleiner als Null\")\n",
    "elif zaehler > 0 :\n",
    "  print(\"Zahl {0:d} ist größer als NUll\".format(zaehler))\n",
    "else :\n",
    "  print(\"Zahl {0:d} ist gleich als NUll\".format(zaehler))"
   ]
  },
  {
   "cell_type": "markdown",
   "id": "6eadc5bb",
   "metadata": {},
   "source": [
    "### Schleifen"
   ]
  },
  {
   "cell_type": "markdown",
   "id": "76e48077",
   "metadata": {},
   "source": [
    "#### WHILE"
   ]
  },
  {
   "cell_type": "code",
   "execution_count": 53,
   "id": "6b5c65bf",
   "metadata": {},
   "outputs": [
    {
     "name": "stdout",
     "output_type": "stream",
     "text": [
      "0\n",
      "1\n",
      "2\n",
      "3\n",
      "4\n",
      "5\n",
      "6\n",
      "7\n",
      "8\n",
      "9\n"
     ]
    }
   ],
   "source": [
    "a = 0\n",
    "while a < 10 : \n",
    "  print(a)\n",
    "  a += 1"
   ]
  },
  {
   "cell_type": "markdown",
   "id": "6261902a",
   "metadata": {},
   "source": [
    "#### FOR"
   ]
  },
  {
   "cell_type": "code",
   "execution_count": 55,
   "id": "5e39232c",
   "metadata": {},
   "outputs": [
    {
     "name": "stdout",
     "output_type": "stream",
     "text": [
      "0~2~4~6~8~10~12~14~16~18~"
     ]
    }
   ],
   "source": [
    "for zahl in range(0,20, 2) :\n",
    "  print(zahl, end=\"~\")\n",
    "  "
   ]
  },
  {
   "cell_type": "code",
   "execution_count": 56,
   "id": "cdfbc95b",
   "metadata": {},
   "outputs": [
    {
     "name": "stdout",
     "output_type": "stream",
     "text": [
      "[1, 2, 3, 4, 5, 6, 7, 8, 9, 10, 11, 12, 13, 14, 15, 16, 17, 18, 19]\n"
     ]
    }
   ],
   "source": [
    "l = list(range(1,20))\n",
    "print(l)"
   ]
  },
  {
   "cell_type": "code",
   "execution_count": 57,
   "id": "944c9819",
   "metadata": {},
   "outputs": [
    {
     "name": "stdout",
     "output_type": "stream",
     "text": [
      "1...2...3...4...5...6...7...8...9...10...11...12...13...14...15...16...17...18...19..."
     ]
    }
   ],
   "source": [
    "for zeichen in l :\n",
    "  print(zeichen, end=\"...\")"
   ]
  },
  {
   "cell_type": "markdown",
   "id": "054fd876",
   "metadata": {},
   "source": [
    "### Schleifen steuern mit ``BREAK`` und ``CONTINUE``"
   ]
  },
  {
   "cell_type": "markdown",
   "id": "ce09362b",
   "metadata": {},
   "source": [
    "analog zu Java und Co."
   ]
  },
  {
   "cell_type": "markdown",
   "id": "f3325ee3",
   "metadata": {},
   "source": []
  }
 ],
 "metadata": {
  "kernelspec": {
   "display_name": "Python 3.9.7 ('base')",
   "language": "python",
   "name": "python3"
  },
  "language_info": {
   "codemirror_mode": {
    "name": "ipython",
    "version": 3
   },
   "file_extension": ".py",
   "mimetype": "text/x-python",
   "name": "python",
   "nbconvert_exporter": "python",
   "pygments_lexer": "ipython3",
   "version": "3.9.7"
  },
  "vscode": {
   "interpreter": {
    "hash": "48ffbde8f94f833f414ed2d7f19b5ee0ba00a4fe51008c35ca886ba8d264ca05"
   }
  }
 },
 "nbformat": 4,
 "nbformat_minor": 5
}
