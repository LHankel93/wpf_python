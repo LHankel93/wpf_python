{
 "cells": [
  {
   "cell_type": "markdown",
   "metadata": {},
   "source": [
    "# Day 1 Exercise: Python Basics\n",
    "\n",
    "This sheet will help you learn the python basics!\n",
    "\n",
    "To test your code, simply add any number of cells! The provided function headers should give you some help and a hint to a solution, but you don't have to use them!\n",
    "\n",
    "**Remember**: \n",
    "- test your code a lot, to see which changes have which effects. \n",
    "- it is also helpful to try to solve the assignment in small steps.\n",
    "- everything you need were covered in the lecture, try to look there before using google."
   ]
  },
  {
   "cell_type": "markdown",
   "metadata": {},
   "source": [
    "## 1. Build a List Evaluator"
   ]
  },
  {
   "cell_type": "markdown",
   "metadata": {},
   "source": [
    "Fill out the function below, which calculates and prints out the maximum value, minimum value, sum of all values, average, and the variance for a list of numbers. (Try not to use the sum, max or min functions in python).\n",
    "\n",
    "(Quick reminder variance)\n",
    "![](variance-formula.png)"
   ]
  },
  {
   "cell_type": "code",
   "execution_count": 19,
   "metadata": {},
   "outputs": [
    {
     "name": "stdout",
     "output_type": "stream",
     "text": [
      "(24, 1, 12.5, 23, 300)\n"
     ]
    }
   ],
   "source": [
    "from audioop import avg\n",
    "\n",
    "\n",
    "def evaluate_list(values:list):\n",
    "    # YOUR CODE starts here!\n",
    "    # Variablen deklarieren und initialisieren\n",
    "    var_count:int = 0\n",
    "    var_sum:int = 0\n",
    "    max_value:int = 0\n",
    "    min_value:int = 0\n",
    "    var_value:int = 0\n",
    "    avg_value:float = float(0.0)\n",
    "    # Anzahl der Werte und Durchschnittlichen Wert ermitteln.\n",
    "    for i in values:\n",
    "        var_count += 1\n",
    "        var_sum += i\n",
    "    avg_value = float(var_sum / var_count)\n",
    "    # Liste sortieren und damit max und min herausfinden (jeweils Anfang und Ende der Liste)\n",
    "    values.sort()\n",
    "    max_value = values[-1]\n",
    "    min_value = values[0]\n",
    "    # Jetzt die Varianz. Aber ich bin kein Mathe Student, habe also keine Ahnung, was genau der Wert ist.\n",
    "    # Ich vermute mal das ist max_value - min_value . Aber ich habe keine Ahnung. :)\n",
    "    var_value = max_value - min_value\n",
    "    # YOUR CODE ENDS here! Except that it does not and the task does not conform with the given code ;)\n",
    "    return max_value, min_value, avg_value, var_value, var_sum\n",
    "\n",
    "l1 = list(range(1,25,1)) #[23,4,67,2,1,5,6,7,3,9]\n",
    "print(evaluate_list(l1))"
   ]
  },
  {
   "cell_type": "markdown",
   "metadata": {},
   "source": [
    "## 2.  Build a simple calculator\n",
    "\n",
    "Write a function, which takes in two numbers, x and y, and does a mathmatical operation of those numbers. The third input is the operation, which should be a string. Possible operations are: \n",
    "- **add**\n",
    "- **subtract**, \n",
    "- **multiply**, \n",
    "- **divide**, \n",
    "- **whole-division**\n",
    "- **modulo**\n",
    "- **power**\n",
    "\n",
    "Your function should make sure the values x and y are of type _int_ or _float_. If the values x and y are not numbers, or the operation is not one of the listed ones, the function should print out a message with the error and return `None`."
   ]
  },
  {
   "cell_type": "code",
   "execution_count": 1,
   "metadata": {},
   "outputs": [
    {
     "name": "stdout",
     "output_type": "stream",
     "text": [
      "15.0\n"
     ]
    }
   ],
   "source": [
    "def list_evaluator(num_1, num_2, operation):\n",
    "    # YOUR CODE starts here!\n",
    "    # Switch Case nach neuem Muster ab Python 3.10\n",
    "    match operation:\n",
    "        case '+':\n",
    "            result:float = num_1 + num_2\n",
    "        case '-':\n",
    "            result:float = num_1 - num_2\n",
    "        case '*':\n",
    "            result:float = num_1 * num_2\n",
    "        case '/':\n",
    "            result:float = float(num_1 / num_2)\n",
    "        case '//':\n",
    "            result:float = float(num_1 // num_2)\n",
    "        case '**':\n",
    "            result:float = float(num_1 ** num_2)\n",
    "        case '%':\n",
    "            result:float = float(num_1 % num_2)\n",
    "    # YOUR CODE ENDS here!\n",
    "    return result \n",
    "# Notwendig, sonst ist das mit dem Testen etwas schwierig in Jupyter Notebook :)\n",
    "num_1:float = float(input(\"Zahl 1 eingeben.\\n\"))\n",
    "num_2:float = float(input(\"Zahl 2 eingeben.\\n\"))\n",
    "operation:str = input(\"Bitte eine der gültigen Rechenoperationen eingeben.\\nFolgende Operationen sind zulässig:\\n'+'(Addition) '-'(Subtraktion) '*'(Multiplikation) '/'(Division) '//'(Ganzzahl-Division) '%'(Modulo) '**'(Exponent)\")\n",
    "print(list_evaluator(num_1, num_2, operation))\n",
    "  "
   ]
  },
  {
   "cell_type": "markdown",
   "metadata": {},
   "source": [
    "## 3. Build an Invoice Generator\n",
    "\n",
    "Write a function, which prints out an invoice for an order for a supermarket. At the moment, the supermarket only has only 4 different products and prices for each: \n",
    "\n",
    "- Watermelons for 3.8\n",
    "- Apples  for 0.9 \n",
    "- Bananas for 1.1 \n",
    "- Tomatoes for 2.7\n",
    "\n",
    "Since the supermarket is pretty new, they have a special going on: If one buys more tomatoes than watermelons, the bananas are free! Else, if the price for all apples is higher than the price for all tomatoes, the watermelons are free! (weird special , I know).\n",
    "The input for the generator is: the name of the customer and number of each item bought. The generator should print out an invoice."
   ]
  },
  {
   "cell_type": "code",
   "execution_count": 27,
   "metadata": {},
   "outputs": [],
   "source": [
    "def invoice_generator(num_watermelons, num_apples, num_bananas, num_tomatoes):\n",
    "    # YOUR CODE starts here!\n",
    "    # Ganz ehrlich: die Aufgabenstellung passt wieder nicht so richtig zum vorgegebenen Code.\n",
    "    # Nur in einer Funktion testen ist auch nicht so wirklich möglich, wenn die nie ausgeführt wird. Just saying.\n",
    "    price_watermelon:float = float(3.8)\n",
    "    price_apple:float = float(0.9)\n",
    "    price_banana:float = float(1.1)\n",
    "    price_tomato:float = float(2.7)\n",
    "    if num_tomatoes > num_watermelons :\n",
    "        price_banana = 0.0\n",
    "    elif (num_apples * price_apple) > (num_tomatoes * price_tomato):\n",
    "        price_watermelon = 0.0\n",
    "    price = (num_apples * price_apple) + (num_bananas * price_banana) + (num_tomatoes * price_tomato) + (num_watermelons * price_watermelon)\n",
    "    # YOUR CODE ENDS here!\n",
    "    return price"
   ]
  },
  {
   "cell_type": "markdown",
   "metadata": {},
   "source": [
    "## 4. Fibonnaci\n",
    "\n",
    "Write a function which calculates and prints the fibonacci series up to n. If that is too easy: Rewrite the function recursively (the function should call itself)."
   ]
  },
  {
   "cell_type": "code",
   "execution_count": 11,
   "metadata": {},
   "outputs": [],
   "source": [
    "def fibonacci(n):\n",
    "    fib_series = [] # create a empty list to fill with values\n",
    "    # YOUR CODE starts here!\n",
    "    \n",
    "    # YOUR CODE ENDS here!\n",
    "    return fib_series"
   ]
  },
  {
   "cell_type": "markdown",
   "metadata": {},
   "source": [
    "## 5. Smart Indexing"
   ]
  },
  {
   "cell_type": "markdown",
   "metadata": {},
   "source": [
    "Create a list with the values from 0 to 99, and use slicing to create the following lists:\n",
    "1. a list with all even numbers \n",
    "2. a list with all numbers dividable by 7\n",
    "3. a list of numbers dividable by 9, in reverse order\n",
    "4. a list all numbers, which start with an odd number\n",
    "\n",
    "Print out the lists in the given function."
   ]
  },
  {
   "cell_type": "code",
   "execution_count": 28,
   "metadata": {},
   "outputs": [],
   "source": [
    "def ex5():\n",
    "    # YOUR CODE starts here!\n",
    "    li = list(range(0,100))\n",
    "    l1 = li[::2]\n",
    "    l2 = li[7::7]\n",
    "    l3 = li[:8:-9]\n",
    "    l4 = li[::2]\n",
    "    # YOUR CODE ENDS here!\n",
    "    return"
   ]
  },
  {
   "cell_type": "markdown",
   "metadata": {},
   "source": [
    "## 6. Build an Encrypter and Decrypter"
   ]
  },
  {
   "cell_type": "markdown",
   "metadata": {},
   "source": [
    "Create an encrypt function that takes a string and returns the sentence with all the letters transposed by a key in the alphabet. The key is an integer specfied in the encrypt function. Also write a decrypt function, which takes an encrypted sentence and a key as input and returns the initial string (if the key is correct!). Symbols should not be transposed!\n",
    "\n",
    "Example: \n",
    "- message: \"abc\", \n",
    "- key:3 \"abc\" \n",
    "\n",
    "`\"abc\"` -> (encrypt)-> `\"def\"` (decrypt)-> `\"abc\"`\n",
    "\n",
    "**Hint**: be careful at edge cases! What should happen with letters at the end of the alphabet?   "
   ]
  },
  {
   "cell_type": "code",
   "execution_count": 17,
   "metadata": {},
   "outputs": [],
   "source": [
    "def encode(message, key):\n",
    "    # YOUR CODE starts here!\n",
    "    \n",
    "    # YOUR CODE ENDS here!\n",
    "    return encoded_message"
   ]
  },
  {
   "cell_type": "code",
   "execution_count": 18,
   "metadata": {},
   "outputs": [],
   "source": [
    "def decode(message, key):\n",
    "    # YOUR CODE starts here!\n",
    "    \n",
    "    # YOUR CODE ENDS here!\n",
    "    return decoded_message"
   ]
  },
  {
   "cell_type": "markdown",
   "metadata": {},
   "source": [
    "## 7. (Advanced) Build a X-mas Tree generator"
   ]
  },
  {
   "cell_type": "markdown",
   "metadata": {},
   "source": [
    "Write a function which prints out a christmas tree! The tree consisits out of stars. The input to the function is only the number of levels and the height of each level. With each level, the tree gets two stars wider. \n",
    "\n",
    "Example with `num_levels=5` and `height_level=6`:\n",
    "\n",
    "![](example_xmas_tree.png)\n",
    "\n",
    "**Hint**: You definetly need to use loops and print spaces for places not filled with stars. Also try to calculate first the width of the tree."
   ]
  },
  {
   "cell_type": "code",
   "execution_count": 19,
   "metadata": {},
   "outputs": [],
   "source": [
    "def build_xmas_tree(height_level, num_levels):\n",
    "    # YOUR CODE starts here!\n",
    "    \n",
    "    # YOUR CODE ENDS here!\n",
    "    return"
   ]
  }
 ],
 "metadata": {
  "kernelspec": {
   "display_name": "Python 3.10.5 64-bit",
   "language": "python",
   "name": "python3"
  },
  "language_info": {
   "codemirror_mode": {
    "name": "ipython",
    "version": 3
   },
   "file_extension": ".py",
   "mimetype": "text/x-python",
   "name": "python",
   "nbconvert_exporter": "python",
   "pygments_lexer": "ipython3",
   "version": "3.10.5"
  },
  "vscode": {
   "interpreter": {
    "hash": "68e45b7eb2bb28c4427cdb0c6b0cc35aac26af037ac9a6f6c34de1157e864ad1"
   }
  }
 },
 "nbformat": 4,
 "nbformat_minor": 2
}
