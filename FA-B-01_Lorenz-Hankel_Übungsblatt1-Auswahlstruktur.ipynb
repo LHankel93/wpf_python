{
 "cells": [
  {
   "cell_type": "markdown",
   "id": "56427aac",
   "metadata": {},
   "source": [
    "#  Übungsblatt 01 -  Auswahlstruktur"
   ]
  },
  {
   "cell_type": "code",
   "execution_count": null,
   "id": "d16c6f6f",
   "metadata": {},
   "outputs": [],
   "source": []
  },
  {
   "cell_type": "markdown",
   "id": "414df4e3",
   "metadata": {},
   "source": [
    "### Aufgabe 1: Hardware-Großhändler  \n",
    "\n",
    "Ein Hardware-Großhändler möchte den Rechnungsbetrag einer Bestellung für PC-Mäuse mit einem Programm ermitteln. Wenn der Kunde mindestens 10 Mäuse bestellt, erfolgt die Lieferung frei Haus, bei einer geringeren Bestellmenge wird eine feste Lieferpauschale von 10 Euro erhoben. Vom Großhändler werden die Anzahl der bestellten Mäuse und der Einzelpreis eingegeben. Das Programm soll den Rechnungsbetrag (incl. MwSt.) ausgeben.\n"
   ]
  },
  {
   "cell_type": "code",
   "execution_count": 8,
   "id": "d57671eb",
   "metadata": {},
   "outputs": [
    {
     "name": "stdout",
     "output_type": "stream",
     "text": [
      "Der finale Preis der Rechnung ist: 53.55 EUR.\n"
     ]
    }
   ],
   "source": [
    "# Decimal importieren für besseres Float / Decimal Handling\n",
    "from decimal import *\n",
    "# Variablen deklarieren & initialisieren\n",
    "mwst = Decimal(\"1.19\")\n",
    "rechnung = Decimal(\"0.0\")\n",
    "porto : Decimal = Decimal(10.0)\n",
    "# Inputs abfragen.\n",
    "anzahl = Decimal(input(\"Bitte geben Sie die Anzahl der gekauften Mäuse ein.\"))\n",
    "preis = Decimal(input(\"Bitte geben Sie die den Preis der Mäuse ein.\"))\n",
    "# \n",
    "if anzahl >= 10 :\n",
    "    rechnung = preis * mwst * anzahl\n",
    "else :\n",
    "    rechnung = preis * mwst * anzahl + porto\n",
    "print(\"Der finale Preis der Rechnung ist: \" +str(rechnung) + \" EUR.\")"
   ]
  },
  {
   "cell_type": "markdown",
   "id": "63d76b50",
   "metadata": {},
   "source": [
    "### Aufgabe 2: Rabattsystem   \n",
    "\n",
    "Der Hardware-Großhändler führt ein Rabattsystem ein: Liegt der Bestellwert zwischen 0 und 100 €, erhält der Kunde einen Rabatt von 10 %. Liegt der Bestellwert höher, aber insgesamt nicht über 500 €, beträgt der Rabatt 15 %, in allen anderen Fällen beträgt der Rabatt 20 %. Nach Eingabe des Bestellwertes soll der ermäßigte Bestellwert (incl. MwSt.) berechnet und ausgegeben werden.\n"
   ]
  },
  {
   "cell_type": "code",
   "execution_count": 2,
   "id": "fd09a8f1",
   "metadata": {},
   "outputs": [
    {
     "name": "stdout",
     "output_type": "stream",
     "text": [
      "Der finale Preis incl. Mwst. beträgt: 665.45 EUR.\n"
     ]
    }
   ],
   "source": [
    "# importieren der hilfreichen Module\n",
    "from decimal import *\n",
    "# Variablen definieren\n",
    "ausgabe = Decimal(\"0.0\")\n",
    "eingabe = Decimal(input(\"Bitte geben Sie den Bestellwert ein.\"))\n",
    "if eingabe <= Decimal(\"100.0\") :\n",
    "    ausgabe = eingabe - eingabe * Decimal(\"0.1\")\n",
    "elif eingabe > Decimal(\"100.0\") and eingabe <= Decimal(\"500.0\") :\n",
    "    ausgabe = eingabe - eingabe * Decimal(\"0.15\")\n",
    "else :\n",
    "    ausgabe = eingabe - eingabe * Decimal(\"0.2\")\n",
    "ausgabe = round(ausgabe * Decimal(\"1.19\"), 2)\n",
    "# Noch auf 2 Nachkommastellen formatieren wenn Zeit ist!\n",
    "print(\"Der finale Preis incl. Mwst. beträgt: \" + str(ausgabe) + \" EUR.\")\n"
   ]
  },
  {
   "cell_type": "markdown",
   "id": "efb609fe",
   "metadata": {},
   "source": [
    "### Aufgabe 3: BMI   \n",
    "\n",
    "BMI (Body Mass Index): Der BMI berechnet sich aus dem Körpergewicht [kg] dividiert durch das Quadrat der Körpergröße [m2]. \n",
    "Die Formel lautet: BMI = (Körpergewicht in kg): (Körpergröße in m)2. \n",
    "Dies bedeutet, eine Person mit einer Körpergröße von 160 cm und einem Körpergewicht von 60 kg hat einen BMI von 23,4 [60: 2,56 = 23,4]. Der BMI einer Person wird nach folgenden Regeln klassifiziert:  \n",
    "\n",
    "\n",
    "Klassifikation\tm\tw\n",
    "Untergewicht\t<20\t<19\n",
    "Normalgewicht\t20-25\t19-24\n",
    "Übergewicht\t>25\t>24\n",
    "\n",
    "Das Programm soll vom Benutzer das Gewicht [in kg] die Größe [in cm] und das Geschlecht [m/w] abfragen. Am Ende des Programms soll die BMI-Klassifikation der Person ausgegeben werden.\n",
    "\n"
   ]
  },
  {
   "cell_type": "code",
   "execution_count": 12,
   "id": "8c5b3a04",
   "metadata": {},
   "outputs": [
    {
     "name": "stdout",
     "output_type": "stream",
     "text": [
      "Ihr BMI beträgt 27.137413996326856\n"
     ]
    }
   ],
   "source": [
    "# Variablen definieren\n",
    "groesseInCm : int = int(input(\"Bitte geben Sie Ihre Körpergröße in cm an.\"))\n",
    "gewicht : int = int(input(\"Bitte geben Sie Ihr Körpergewicht in kg an.\"))\n",
    "mw : bool = input(\"Bitte geben Sie Ihr Geschlecht in 'm', oder 'w' an.\")\n",
    "bmi : float = 0.00\n",
    "m : bool = False\n",
    "\n",
    "groesseInm : float = groesseInCm / 100\n",
    "\n",
    "bmi = gewicht/(groesseInm**2)\n",
    "bmi = round(bmi)\n",
    "\n",
    "if mw == 'm' :\n",
    "    m = True\n",
    "else :\n",
    "    m = False\n",
    "\n",
    "print(\"Ihr BMI beträgt \" + str(bmi))\n",
    "if m :\n",
    "    # Untergewicht\n",
    "    if bmi < 20 :\n",
    "        print(\"Sie haben Untergewicht.\")\n",
    "    elif bmi >= 20 and bmi <= 24 :\n",
    "        print(\"Sie haben Normalgewicht.\")\n",
    "    else :\n",
    "        print(\"Sie haben Übergewicht.\")\n",
    "else :\n",
    "    if bmi < 19 :\n",
    "        print(\"Sie haben Untergewicht.\")\n",
    "    elif bmi >= 19 and bmi <= 25 :\n",
    "        print(\"Sie haben Normalgewicht.\")\n",
    "    else :\n",
    "        print(\"Sie haben Übergewicht.\")\n"
   ]
  },
  {
   "cell_type": "markdown",
   "id": "43025f10",
   "metadata": {},
   "source": [
    "### Aufgabe 4: Sortieren    \n",
    "\n",
    "Erstellen Sie die Konsolenanwendung Sortiere_abc. Das Programm Sortiere_abc soll drei Zeicheneingaben (z. B. Buchstaben, Ziffern) vom Benutzer erwarten. Anschließend soll das Programm die drei eingegebenen Zeichen in aufsteigender Reihenfolge ausgeben. \n"
   ]
  },
  {
   "cell_type": "code",
   "execution_count": 1,
   "id": "765cd1f9",
   "metadata": {},
   "outputs": [
    {
     "name": "stdout",
     "output_type": "stream",
     "text": [
      "['3', '4', '5']\n"
     ]
    }
   ],
   "source": [
    "i1 = input(\"Erstes Symbol eingeben.\")\n",
    "i2 = input(\"Zweites Symbol eingeben.\")\n",
    "i3 = input(\"Drittes Symbol eingeben.\")\n",
    "\n",
    "li = [i1, i2, i3]\n",
    "\n",
    "li.sort()\n",
    "\n",
    "print(li)"
   ]
  },
  {
   "cell_type": "markdown",
   "id": "71065cdb",
   "metadata": {},
   "source": [
    "### Aufgabe 5: Schaltjahr    \n",
    "\n",
    "Entwickeln Sie ein Programm, welches ausgibt, ob das eingegebene Jahr ein Schaltjahr ist. \n",
    "\n",
    "Regel 1: Ist eine Jahreszahl ganzzahlig durch 4 teilbar, dann ist das Jahr ein Schaltjahr mit 366 Tagen. \n",
    "Beispiele: 1980, 1972, 1720 waren Schaltjahre \n",
    "\n",
    "Regel 2: Ausnahme von Regel 1 sind alle Jahreszahlen, die nach Regel 1 ein Schaltjahr sind, aber deren Jahreszahl ganzzahlig durch 100 teilbar sind. \n",
    "Beispiele: 1700, 1800 und 1900 oder ferner 2100 sind keine Schaltjahre. \n",
    "\n",
    "Regel 3: Ausnahme von Regel 2 sind alle Jahreszahlen, die nach Regel 2 kein Schaltjahr sind, aber deren Jahreszahl ganzzahlig durch 400 teilbar. \n",
    "Beispiele: 1600 und 2000 waren Schaltjahre zu 366 Tagen. \n",
    "oder eine einfach zu merkende Regel: \n",
    "\n",
    "\n",
    "- Ein Schaltjahr ist alle vier Jahre (1992 und 1996 waren z.B. Schaltjahre), \n",
    "\n",
    "- alle hundert Jahre nicht (1700 und 1800 waren keine Schaltjahre), \n",
    "\n",
    "- und alle vierhundert Jahre doch (2000 war doch ein Schaltjahr), \n",
    "\n",
    "- Dummerweise wurde diese Regelung erst 1582 eingeführt, d.h. davor galt nur Regel1, \n",
    "\n",
    "- Eingeführt wurden Schaltjahre im heutigen Sinne durch Julius Cäsar 45 v. Chr. \n",
    "\n",
    "Das Programm soll vom Benutzer eine Jahreszahl abfragen. Am Ende des Programms soll ausgegeben werden, ob es sich um ein Schaltjahr handelt oder nicht.\n"
   ]
  },
  {
   "cell_type": "code",
   "execution_count": 15,
   "id": "fca2ec15",
   "metadata": {},
   "outputs": [
    {
     "name": "stdout",
     "output_type": "stream",
     "text": [
      "Das Jahr 1333 ist kein Schaltjahr.\n"
     ]
    }
   ],
   "source": [
    "# Variablen definieren & initialisieren\n",
    "jahr = int(input(\"Bitte geben Sie das Jahr ein, welches Sie prüfen wollen.: \"))\n",
    "\n",
    "#Sonderregelung aus den Notizen abfangen\n",
    "if jahr < 1582 :\n",
    "    if (jahr/4).is_integer() :\n",
    "        print(\"Das Jahr \" + str(jahr) + \" ist ein Schaltjahr.\")\n",
    "    else : \n",
    "        print(\"Das Jahr \" + str(jahr) + \" ist kein Schaltjahr.\")\n",
    "else :\n",
    "    if (jahr/4).is_integer() :\n",
    "        if (jahr/100).is_integer() :\n",
    "            if (jahr/400).is_integer() :\n",
    "                print(\"Das Jahr \" + str(jahr) + \" ist ein Schaltjahr.\")\n",
    "            else :\n",
    "                print(\"Das Jahr \" + str(jahr) + \" ist kein Schaltjahr.\")\n",
    "        else :\n",
    "            print(\"Das Jahr \" + str(jahr) + \" ist ein Schaltjahr.\")\n",
    "    else :\n",
    "        print(\"Das Jahr \" + str(jahr) + \" ist ein Schaltjahr.\")"
   ]
  }
 ],
 "metadata": {
  "kernelspec": {
   "display_name": "Python 3.10.5 64-bit",
   "language": "python",
   "name": "python3"
  },
  "language_info": {
   "codemirror_mode": {
    "name": "ipython",
    "version": 3
   },
   "file_extension": ".py",
   "mimetype": "text/x-python",
   "name": "python",
   "nbconvert_exporter": "python",
   "pygments_lexer": "ipython3",
   "version": "3.10.5"
  },
  "vscode": {
   "interpreter": {
    "hash": "68e45b7eb2bb28c4427cdb0c6b0cc35aac26af037ac9a6f6c34de1157e864ad1"
   }
  }
 },
 "nbformat": 4,
 "nbformat_minor": 5
}
